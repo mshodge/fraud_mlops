{
 "cells": [
  {
   "cell_type": "code",
   "execution_count": null,
   "metadata": {},
   "outputs": [
    {
     "name": "stdout",
     "output_type": "stream",
     "text": [
      "/workspaces/fraud_mlops\n"
     ]
    },
    {
     "data": {
      "text/html": [
       "<div>\n",
       "<style scoped>\n",
       "    .dataframe tbody tr th:only-of-type {\n",
       "        vertical-align: middle;\n",
       "    }\n",
       "\n",
       "    .dataframe tbody tr th {\n",
       "        vertical-align: top;\n",
       "    }\n",
       "\n",
       "    .dataframe thead th {\n",
       "        text-align: right;\n",
       "    }\n",
       "</style>\n",
       "<table border=\"1\" class=\"dataframe\">\n",
       "  <thead>\n",
       "    <tr style=\"text-align: right;\">\n",
       "      <th></th>\n",
       "      <th>Transaction_ID</th>\n",
       "      <th>User_ID</th>\n",
       "      <th>Transaction_Amount</th>\n",
       "      <th>Transaction_Type</th>\n",
       "      <th>Timestamp</th>\n",
       "      <th>Account_Balance</th>\n",
       "      <th>Device_Type</th>\n",
       "      <th>Location</th>\n",
       "      <th>Merchant_Category</th>\n",
       "      <th>IP_Address_Flag</th>\n",
       "      <th>...</th>\n",
       "      <th>Daily_Transaction_Count</th>\n",
       "      <th>Avg_Transaction_Amount_7d</th>\n",
       "      <th>Failed_Transaction_Count_7d</th>\n",
       "      <th>Card_Type</th>\n",
       "      <th>Card_Age</th>\n",
       "      <th>Transaction_Distance</th>\n",
       "      <th>Authentication_Method</th>\n",
       "      <th>Risk_Score</th>\n",
       "      <th>Is_Weekend</th>\n",
       "      <th>Fraud_Label</th>\n",
       "    </tr>\n",
       "  </thead>\n",
       "  <tbody>\n",
       "    <tr>\n",
       "      <th>0</th>\n",
       "      <td>TXN_33553</td>\n",
       "      <td>USER_1834</td>\n",
       "      <td>39.79</td>\n",
       "      <td>POS</td>\n",
       "      <td>2023-08-14 19:30:00</td>\n",
       "      <td>93213.17</td>\n",
       "      <td>Laptop</td>\n",
       "      <td>Sydney</td>\n",
       "      <td>Travel</td>\n",
       "      <td>0</td>\n",
       "      <td>...</td>\n",
       "      <td>7</td>\n",
       "      <td>437.63</td>\n",
       "      <td>3</td>\n",
       "      <td>Amex</td>\n",
       "      <td>65</td>\n",
       "      <td>883.17</td>\n",
       "      <td>Biometric</td>\n",
       "      <td>0.8494</td>\n",
       "      <td>0</td>\n",
       "      <td>0</td>\n",
       "    </tr>\n",
       "  </tbody>\n",
       "</table>\n",
       "<p>1 rows × 21 columns</p>\n",
       "</div>"
      ],
      "text/plain": [
       "  Transaction_ID    User_ID  Transaction_Amount Transaction_Type  \\\n",
       "0      TXN_33553  USER_1834               39.79              POS   \n",
       "\n",
       "             Timestamp  Account_Balance Device_Type Location  \\\n",
       "0  2023-08-14 19:30:00         93213.17      Laptop   Sydney   \n",
       "\n",
       "  Merchant_Category  IP_Address_Flag  ...  Daily_Transaction_Count  \\\n",
       "0            Travel                0  ...                        7   \n",
       "\n",
       "   Avg_Transaction_Amount_7d  Failed_Transaction_Count_7d  Card_Type Card_Age  \\\n",
       "0                     437.63                            3       Amex       65   \n",
       "\n",
       "   Transaction_Distance  Authentication_Method Risk_Score  Is_Weekend  \\\n",
       "0                883.17              Biometric     0.8494           0   \n",
       "\n",
       "   Fraud_Label  \n",
       "0            0  \n",
       "\n",
       "[1 rows x 21 columns]"
      ]
     },
     "execution_count": 1,
     "metadata": {},
     "output_type": "execute_result"
    }
   ],
   "source": [
    "import joblib\n",
    "import pandas as pd\n",
    "import os\n",
    "\n",
    "CODESPACES = True\n",
    "\n",
    "if CODESPACES:\n",
    "    os.chdir('/workspaces/fraud_mlops')\n",
    "else:\n",
    "    os.chdir('/Users/michael.hodge/GitProjects/fraud_mlops')\n",
    "print(os.getcwd())\n",
    "\n",
    "from scripts.utils.data_pipeline import data_pipeline_predict\n",
    "\n",
    "df = pd.read_csv('./data/synthetic_fraud_dataset.csv')\n",
    "first_row = df.iloc[:1]\n",
    "first_row"
   ]
  },
  {
   "cell_type": "code",
   "execution_count": 2,
   "metadata": {},
   "outputs": [],
   "source": [
    "scaler = joblib.load('./artefacts/scaler.save')\n",
    "encoder = joblib.load('./artefacts/encoder.save')\n",
    "selector = joblib.load('./artefacts/selector.save')"
   ]
  },
  {
   "cell_type": "code",
   "execution_count": 3,
   "metadata": {},
   "outputs": [
    {
     "name": "stderr",
     "output_type": "stream",
     "text": [
      "/workspaces/fraud_mlops/scripts/utils/data_pipeline.py:27: SettingWithCopyWarning: \n",
      "A value is trying to be set on a copy of a slice from a DataFrame.\n",
      "Try using .loc[row_indexer,col_indexer] = value instead\n",
      "\n",
      "See the caveats in the documentation: https://pandas.pydata.org/pandas-docs/stable/user_guide/indexing.html#returning-a-view-versus-a-copy\n",
      "  df['transaction_timestamp'] = pd.to_datetime(df['transaction_timestamp'])\n",
      "/workspaces/fraud_mlops/scripts/utils/data_pipeline.py:28: SettingWithCopyWarning: \n",
      "A value is trying to be set on a copy of a slice from a DataFrame.\n",
      "Try using .loc[row_indexer,col_indexer] = value instead\n",
      "\n",
      "See the caveats in the documentation: https://pandas.pydata.org/pandas-docs/stable/user_guide/indexing.html#returning-a-view-versus-a-copy\n",
      "  df['day_of_week'] = df['transaction_timestamp'].dt.day_name()\n",
      "/workspaces/fraud_mlops/scripts/utils/data_pipeline.py:29: SettingWithCopyWarning: \n",
      "A value is trying to be set on a copy of a slice from a DataFrame.\n",
      "Try using .loc[row_indexer,col_indexer] = value instead\n",
      "\n",
      "See the caveats in the documentation: https://pandas.pydata.org/pandas-docs/stable/user_guide/indexing.html#returning-a-view-versus-a-copy\n",
      "  df['transaction_hour'] = df['transaction_timestamp'].dt.hour\n"
     ]
    },
    {
     "data": {
      "text/plain": [
       "array([[-1.35299369,  1.49251806, -1.22649279, -1.41571843, -1.41472898,\n",
       "        -0.23044883, -0.12151956,  0.70851655, -1.34935421,  1.20978316,\n",
       "        -1.4948994 ,  1.0900955 , -0.24484035, -0.57713033, -2.42465291]])"
      ]
     },
     "execution_count": 3,
     "metadata": {},
     "output_type": "execute_result"
    }
   ],
   "source": [
    "input_data = data_pipeline_predict(first_row, scaler, encoder, selector)\n",
    "input_data"
   ]
  },
  {
   "cell_type": "code",
   "execution_count": 4,
   "metadata": {},
   "outputs": [
    {
     "name": "stdout",
     "output_type": "stream",
     "text": [
      "This transaction could be FRAUD with a probability score of 79.41%\n"
     ]
    }
   ],
   "source": [
    "import mlflow\n",
    "import pandas as pd\n",
    "import numpy as np\n",
    "from sklearn.metrics import accuracy_score, precision_score, recall_score, f1_score\n",
    "import mlflow.sklearn\n",
    "\n",
    "RUN_ID = 'ac26a369dd364795bc5f4463d4e2997a'\n",
    "\n",
    "logged_model = f'runs:/{RUN_ID}/XGBClassifier'\n",
    "\n",
    "# Load model as a PyFuncModel.\n",
    "loaded_model = mlflow.sklearn.load_model(logged_model)\n",
    "\n",
    "# Predict on a Pandas DataFrame.\n",
    "y_pred = loaded_model.predict(input_data)\n",
    "y_pred_prob = loaded_model.predict_proba(input_data)\n",
    "\n",
    "prob_perc = round(float(max(max(y_pred_prob)))*100,2)\n",
    "\n",
    "if y_pred[0] == 1:\n",
    "    print(f\"This transaction could be FRAUD with a probability score of {prob_perc}%\")\n",
    "else:\n",
    "    print(f\"This transaction is likely to be legitimate with a probability score of {prob_perc}%\")\n"
   ]
  }
 ],
 "metadata": {
  "kernelspec": {
   "display_name": "venv_fraud_mlops",
   "language": "python",
   "name": "python3"
  },
  "language_info": {
   "codemirror_mode": {
    "name": "ipython",
    "version": 3
   },
   "file_extension": ".py",
   "mimetype": "text/x-python",
   "name": "python",
   "nbconvert_exporter": "python",
   "pygments_lexer": "ipython3",
   "version": "3.12.1"
  }
 },
 "nbformat": 4,
 "nbformat_minor": 2
}
